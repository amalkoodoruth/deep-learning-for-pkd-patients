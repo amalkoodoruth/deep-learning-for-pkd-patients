{
  "nbformat": 4,
  "nbformat_minor": 0,
  "metadata": {
    "colab": {
      "name": "new_dataloader.ipynb",
      "provenance": [],
      "collapsed_sections": [],
      "authorship_tag": "ABX9TyNrcTaLmMkHvd8k/Ff2HfUi",
      "include_colab_link": true
    },
    "kernelspec": {
      "name": "python3",
      "display_name": "Python 3"
    },
    "language_info": {
      "name": "python"
    }
  },
  "cells": [
    {
      "cell_type": "markdown",
      "metadata": {
        "id": "view-in-github",
        "colab_type": "text"
      },
      "source": [
        "<a href=\"https://colab.research.google.com/github/amalkoodoruth/deep-learning-for-pkd-patients/blob/main/new_dataloader.ipynb\" target=\"_parent\"><img src=\"https://colab.research.google.com/assets/colab-badge.svg\" alt=\"Open In Colab\"/></a>"
      ]
    },
    {
      "cell_type": "code",
      "metadata": {
        "colab": {
          "base_uri": "https://localhost:8080/"
        },
        "id": "HpdlVwcVeX71",
        "outputId": "15855a8f-cca8-4470-f705-f83eaf44e83d"
      },
      "source": [
        "# Mounting drive and changing the working directory\n",
        "from google.colab import drive\n",
        "drive.mount('/content/drive')\n",
        "%cd /content/drive/MyDrive/MiCM2021-PKD/dataloader_data_kaggle/Train_Sets/MR"
      ],
      "execution_count": 1,
      "outputs": [
        {
          "output_type": "stream",
          "text": [
            "Mounted at /content/drive\n",
            "/content/drive/MyDrive/MiCM2021-PKD/dataloader_data_kaggle/Train_Sets/MR\n"
          ],
          "name": "stdout"
        }
      ]
    },
    {
      "cell_type": "code",
      "metadata": {
        "colab": {
          "base_uri": "https://localhost:8080/"
        },
        "id": "HdXiSf1_eZnR",
        "outputId": "41049bbc-fa5e-4521-93a7-ab2b9f46aef6"
      },
      "source": [
        "!pip install pydicom"
      ],
      "execution_count": 2,
      "outputs": [
        {
          "output_type": "stream",
          "text": [
            "Collecting pydicom\n",
            "\u001b[?25l  Downloading https://files.pythonhosted.org/packages/f4/15/df16546bc59bfca390cf072d473fb2c8acd4231636f64356593a63137e55/pydicom-2.1.2-py3-none-any.whl (1.9MB)\n",
            "\u001b[K     |████████████████████████████████| 1.9MB 29.6MB/s \n",
            "\u001b[?25hInstalling collected packages: pydicom\n",
            "Successfully installed pydicom-2.1.2\n"
          ],
          "name": "stdout"
        }
      ]
    },
    {
      "cell_type": "code",
      "metadata": {
        "id": "IQslLCGpl377"
      },
      "source": [
        "!pip install PIL"
      ],
      "execution_count": null,
      "outputs": []
    },
    {
      "cell_type": "code",
      "metadata": {
        "id": "0xoF1m9ueim2"
      },
      "source": [
        "# importing important librarires\n",
        "import itertools\n",
        "import matplotlib.pyplot as plt\n",
        "import numpy as np\n",
        "import os\n",
        "import pandas as pd\n",
        "import pydicom\n",
        "from PIL import Image"
      ],
      "execution_count": 3,
      "outputs": []
    },
    {
      "cell_type": "code",
      "metadata": {
        "id": "uXWcI9eoelZq"
      },
      "source": [
        "my_dir = !pwd\n",
        "my_dir = str(my_dir)"
      ],
      "execution_count": 4,
      "outputs": []
    },
    {
      "cell_type": "code",
      "metadata": {
        "colab": {
          "base_uri": "https://localhost:8080/"
        },
        "id": "D6FtdnX9gHlw",
        "outputId": "e886c530-d333-425b-b184-4bcba64608c8"
      },
      "source": [
        "!pip install elasticdeform"
      ],
      "execution_count": 6,
      "outputs": [
        {
          "output_type": "stream",
          "text": [
            "Collecting elasticdeform\n",
            "\u001b[?25l  Downloading https://files.pythonhosted.org/packages/39/e0/fea49d29988d47513eb5f20a1633d8006481533c9ef41f330681d6de8534/elasticdeform-0.4.9-cp37-cp37m-manylinux2010_x86_64.whl (93kB)\n",
            "\r\u001b[K     |███▌                            | 10kB 13.2MB/s eta 0:00:01\r\u001b[K     |███████                         | 20kB 16.5MB/s eta 0:00:01\r\u001b[K     |██████████▌                     | 30kB 19.0MB/s eta 0:00:01\r\u001b[K     |██████████████                  | 40kB 19.0MB/s eta 0:00:01\r\u001b[K     |█████████████████▌              | 51kB 21.2MB/s eta 0:00:01\r\u001b[K     |█████████████████████           | 61kB 23.6MB/s eta 0:00:01\r\u001b[K     |████████████████████████▌       | 71kB 25.0MB/s eta 0:00:01\r\u001b[K     |████████████████████████████    | 81kB 26.1MB/s eta 0:00:01\r\u001b[K     |███████████████████████████████▌| 92kB 27.7MB/s eta 0:00:01\r\u001b[K     |████████████████████████████████| 102kB 9.1MB/s \n",
            "\u001b[?25hRequirement already satisfied: scipy in /usr/local/lib/python3.7/dist-packages (from elasticdeform) (1.4.1)\n",
            "Requirement already satisfied: numpy in /usr/local/lib/python3.7/dist-packages (from elasticdeform) (1.19.5)\n",
            "Installing collected packages: elasticdeform\n",
            "Successfully installed elasticdeform-0.4.9\n"
          ],
          "name": "stdout"
        }
      ]
    },
    {
      "cell_type": "code",
      "metadata": {
        "colab": {
          "base_uri": "https://localhost:8080/"
        },
        "id": "G75u7lTieoSD",
        "outputId": "0701689f-587d-4a00-b040-2aa070eb13c2"
      },
      "source": [
        "import numpy, imageio, elasticdeform\n",
        "X = numpy.zeros((200, 300))\n",
        "X[::10, ::10] = 1\n",
        "\n",
        "# apply deformation with a random 3 x 3 grid\n",
        "X_deformed = elasticdeform.deform_random_grid(X, sigma=25, points=3)\n",
        "\n",
        "imageio.imsave('test_X.png', X)\n",
        "imageio.imsave('test_X_deformed.png', X_deformed)"
      ],
      "execution_count": 7,
      "outputs": [
        {
          "output_type": "stream",
          "text": [
            "WARNING:root:Lossy conversion from float64 to uint8. Range [0, 1]. Convert image to uint8 prior to saving to suppress this warning.\n",
            "WARNING:root:Lossy conversion from float64 to uint8. Range [-0.13663871097179248, 0.9987335110117181]. Convert image to uint8 prior to saving to suppress this warning.\n"
          ],
          "name": "stderr"
        }
      ]
    },
    {
      "cell_type": "code",
      "metadata": {
        "colab": {
          "base_uri": "https://localhost:8080/"
        },
        "id": "jK_y3ZKGgGFM",
        "outputId": "936cc11e-c140-4642-b9c4-a89b84739fa0"
      },
      "source": [
        "ls"
      ],
      "execution_count": 8,
      "outputs": [
        {
          "output_type": "stream",
          "text": [
            "\u001b[0m\u001b[01;34m1\u001b[0m/   \u001b[01;34m13\u001b[0m/  \u001b[01;34m19\u001b[0m/  \u001b[01;34m20\u001b[0m/  \u001b[01;34m22\u001b[0m/  \u001b[01;34m31\u001b[0m/  \u001b[01;34m33\u001b[0m/  \u001b[01;34m36\u001b[0m/  \u001b[01;34m38\u001b[0m/  \u001b[01;34m5\u001b[0m/  test_X_deformed.png\n",
            "\u001b[01;34m10\u001b[0m/  \u001b[01;34m15\u001b[0m/  \u001b[01;34m2\u001b[0m/   \u001b[01;34m21\u001b[0m/  \u001b[01;34m3\u001b[0m/   \u001b[01;34m32\u001b[0m/  \u001b[01;34m34\u001b[0m/  \u001b[01;34m37\u001b[0m/  \u001b[01;34m39\u001b[0m/  \u001b[01;34m8\u001b[0m/  test_X.png\n"
          ],
          "name": "stdout"
        }
      ]
    },
    {
      "cell_type": "code",
      "metadata": {
        "id": "l3K9VFnEgT3Y"
      },
      "source": [
        "import torch\n",
        "from torch.utils import data\n",
        "from torch.autograd import Variable\n",
        "\n",
        "import sys"
      ],
      "execution_count": 9,
      "outputs": []
    },
    {
      "cell_type": "code",
      "metadata": {
        "id": "U3PvimBik28v"
      },
      "source": [
        "patients = os.listdir(my_dir[2:-2])\n",
        "image_paths = []\n",
        "for patient in patients:\n",
        "  image_path = my_dir[2:-2] + '/' + patient\n",
        "  image_paths.append(image_path)\n"
      ],
      "execution_count": 16,
      "outputs": []
    },
    {
      "cell_type": "code",
      "metadata": {
        "colab": {
          "base_uri": "https://localhost:8080/"
        },
        "id": "BwMtL69SmDuW",
        "outputId": "4401d159-221e-4ca6-de5a-8256574c570f"
      },
      "source": [
        "print(image_paths[0])"
      ],
      "execution_count": 17,
      "outputs": [
        {
          "output_type": "stream",
          "text": [
            "/content/drive/My Drive/MiCM2021-PKD/dataloader_data_kaggle/Train_Sets/MR/8\n"
          ],
          "name": "stdout"
        }
      ]
    },
    {
      "cell_type": "code",
      "metadata": {
        "id": "Xwd6sVLwl230"
      },
      "source": [
        "my_data_dir = data_dir + '13/T2SPIR/Ground/'\n",
        "master_dir = '/content/drive/My Drive/MiCM2021-PKD/dataloader_data_kaggle/Train_Sets/MR/'\n",
        "patients = os.listdir(master_dir)\n",
        "#patients.sort()\n",
        "X_train_paths = []\n",
        "y_train_paths = []\n",
        "for patient in patients:\n",
        "  X_train_paths.append(master_dir + patient + '/T2SPIR/dicom_anon')\n",
        "  y_train_paths.append(master_dir + patient + '/T2SPIR/Ground')\n",
        "\n",
        "\n"
      ],
      "execution_count": null,
      "outputs": []
    },
    {
      "cell_type": "code",
      "metadata": {
        "id": "205-IBvJjpDx"
      },
      "source": [
        "class SliceDatasetDeformable(data.Dataset):\n",
        "\n",
        "    ##\n",
        "    # img_paths is list of paths to intensity images\n",
        "    # seg_paths is list of paths to segmentation images, define as None if no segmentations exist\n",
        "    # sigma is deformation intensity, points the number of coordinates for grid deformation\n",
        "    def __init__(self, img_paths, seg_paths, sigma, points, new_dimensions):\n",
        "\n",
        "        self.seg_paths = seg_paths\n",
        "        self.img_paths = img_paths\n",
        "        self.sigma = sigma\n",
        "        self.points = points\n",
        "        self.new_dimensions = new_dimensions\n",
        "\n",
        "    def __len__(self):\n",
        "        return len(self.img_paths)\n",
        "\n",
        "\n",
        "    def __getitem__(self, index):\n",
        "        \"\"\"\n",
        "        This function is used to retrieve one scan and its corresponding segmented\n",
        "        image from a dataset, if it exists. The scan and the segmented image are \n",
        "        converted into numpy arrays that have the dimensions specified in the constructor.\n",
        "\n",
        "          Parameters:\n",
        "            index (int): the index of the scan we want to retrieve. It is in the range [0, size of dataset)\n",
        "\n",
        "          Returns:\n",
        "            X (numpy.ndarray): training sample of size new_dimensions\n",
        "            Y (numpy.ndarray): segmented image if it exists (will exist if in training set). Else, array of 0s\n",
        "              \n",
        "        \"\"\"\n",
        "        image_path = self.image_paths[index]\n",
        "        image = np.load_scan(image_path)\n",
        "        image_resized = resize_data(image, new_dimensions)\n",
        "\n",
        "        seg_exists = len(self.seg_paths) > 0\n",
        "\n",
        "        if seg_exists:\n",
        "          seg_path = self.seg_paths[index]\n",
        "          seg = np.load_seg(seg_path)\n",
        "          seg_resized = resize_data(seg, new_dimensions)\n",
        "\n",
        "        # Convert images to pytorch tensors\n",
        "        ## why .float() and .long()\n",
        "        X = Variable(torch.from_numpy(image_resized)).float()\n",
        "    \n",
        "        if seg_exists:\n",
        "            Y = Variable(torch.from_numpy(seg_resized)).long()\n",
        "\n",
        "        else:\n",
        "            Y = torch.zeros(1) # dummy segmentation\n",
        "          \n",
        "        name = os.path.basename(self.img_paths[index])\n",
        "\n",
        "        return X, Y, name ## why return name??\n",
        "\n",
        "\n",
        "\n",
        "    # Load the scans in given folder path\n",
        "    def load_scan(self, path):\n",
        "        \"\"\"\n",
        "        This function is used to load the MRI scans. It converts the scan into a numpy array\n",
        "\n",
        "          Parameters:\n",
        "            path (str): The path to the folder containing the MRI scans of all patients\n",
        "\n",
        "          Returns:\n",
        "            np_image (numpy.ndarray): A numpy array representing the MRI scan\n",
        "        \"\"\"\n",
        "\n",
        "        slices = [pydicom.read_file(path + '/' + s) for s in os.listdir(path)]\n",
        "        slices.sort(key = lambda x: float(x.ImagePositionPatient[2]))\n",
        "        try:\n",
        "            slice_thickness = np.abs(slices[0].ImagePositionPatient[2] - slices[1].ImagePositionPatient[2])\n",
        "        except Exception as e:\n",
        "            print(\"Exception raised: \", e)\n",
        "            slice_thickness = np.abs(slices[0].SliceLocation - slices[1].SliceLocation)\n",
        "            \n",
        "        for s in slices:\n",
        "            s.SliceThickness = slice_thickness\n",
        "\n",
        "        image = np.stack([s.pixel_array for s in slices])\n",
        "        image = image.astype(np.int16)\n",
        "        np_image = np.array(image, dtype=np.int16)\n",
        "\n",
        "        return np_image\n",
        "            \n",
        "    \n",
        "    def load_seg(self,path):\n",
        "        \"\"\"\n",
        "        This function is used to load the segmented image. It returns the image in a numpy array\n",
        "\n",
        "          Parameters:\n",
        "            path (str): The directory where all the segmented images corresponding to one patient are stored\n",
        "\n",
        "          Returns:\n",
        "            seg_data (numpy.ndarray): A list of numpy arrays corresponding to segmented images\n",
        "        \"\"\"\n",
        "        seg_paths = []\n",
        "\n",
        "        if path[-1] != '/':\n",
        "          path = path + '/'\n",
        "\n",
        "        for seg in os.listdir(path):\n",
        "          seg_paths.append(path + seg)\n",
        "\n",
        "        seg_paths.sort()\n",
        "\n",
        "        seg_data = []\n",
        "        for seg_path in seg_paths:\n",
        "          seg = Image.open(seg_path)\n",
        "          seg_data.append(np.asarray(seg))\n",
        "\n",
        "        return seg_data\n",
        "\n",
        "        \n",
        "    def resize_data(self, data, new_dimensions):\n",
        "        '''\n",
        "        This function resizes a numpy array.\n",
        "        TO DO: method used for interpolation?\n",
        "\n",
        "          Parameters:\n",
        "            data (numpy.ndarray): a numpy array representing an MRI scan\n",
        "            new_dimensions (list): a list containing the dimensions of the new scan [z,x,y]\n",
        "\n",
        "          Returns:\n",
        "            new_data (numpy.ndarray): a numpy array with the desired dimensions\n",
        "        '''\n",
        "        initial_size_x = data.shape[1]\n",
        "        initial_size_y = data.shape[2]\n",
        "        initial_size_z = data.shape[0]\n",
        "\n",
        "        new_size_z = new_dimensions[0]\n",
        "        new_size_x = new_dimensions[1]\n",
        "        new_size_y = new_dimensions[2]\n",
        "          \n",
        "        delta_x = initial_size_x / new_size_x\n",
        "        delta_y = initial_size_y / new_size_y\n",
        "        delta_z = initial_size_z / new_size_z\n",
        "\n",
        "        new_data = np.zeros((new_size_z, new_size_x, new_size_y))\n",
        "\n",
        "        for x, y, z in itertools.product(range(new_size_x),\n",
        "                                          range(new_size_y),\n",
        "                                          range(new_size_z)):\n",
        "          new_data[z][x][y] = data[int(z * delta_z)][int(x * delta_x)][int(y * delta_y)]\n",
        "\n",
        "        return new_data\n"
      ],
      "execution_count": null,
      "outputs": []
    }
  ]
}