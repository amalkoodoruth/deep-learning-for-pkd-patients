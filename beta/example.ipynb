{
  "nbformat": 4,
  "nbformat_minor": 0,
  "metadata": {
    "colab": {
      "name": "example.ipynb",
      "provenance": [],
      "collapsed_sections": []
    },
    "kernelspec": {
      "name": "python3",
      "display_name": "Python 3"
    },
    "language_info": {
      "name": "python"
    },
    "accelerator": "GPU"
  },
  "cells": [
    {
      "cell_type": "code",
      "metadata": {
        "colab": {
          "base_uri": "https://localhost:8080/"
        },
        "id": "-kVb2H6Zm_PW",
        "outputId": "0577dfd7-c57b-4db8-9d6c-8211f3b6ffce"
      },
      "source": [
        "from google.colab import drive\n",
        "drive.mount('/content/drive')"
      ],
      "execution_count": 1,
      "outputs": [
        {
          "output_type": "stream",
          "text": [
            "Mounted at /content/drive\n"
          ],
          "name": "stdout"
        }
      ]
    },
    {
      "cell_type": "code",
      "metadata": {
        "colab": {
          "base_uri": "https://localhost:8080/"
        },
        "id": "JueK8EKRtI0h",
        "outputId": "ccc9d9cf-364f-46ed-877c-2cc2cc2262f0"
      },
      "source": [
        "%cd /content/drive/MyDrive/MiCM2021-PKD/beta/\n",
        "my_dir = '/content/drive/MyDrive/MiCM2021-PKD/beta/'"
      ],
      "execution_count": 2,
      "outputs": [
        {
          "output_type": "stream",
          "text": [
            "/content/drive/MyDrive/MiCM2021-PKD/beta\n"
          ],
          "name": "stdout"
        }
      ]
    },
    {
      "cell_type": "code",
      "metadata": {
        "colab": {
          "base_uri": "https://localhost:8080/"
        },
        "id": "hEH8ZgIku7t4",
        "outputId": "795d6f53-660d-4eb1-8dd2-b5e05490501c"
      },
      "source": [
        "!pip install pydicom"
      ],
      "execution_count": 3,
      "outputs": [
        {
          "output_type": "stream",
          "text": [
            "Collecting pydicom\n",
            "\u001b[?25l  Downloading https://files.pythonhosted.org/packages/f4/15/df16546bc59bfca390cf072d473fb2c8acd4231636f64356593a63137e55/pydicom-2.1.2-py3-none-any.whl (1.9MB)\n",
            "\u001b[K     |████████████████████████████████| 1.9MB 4.2MB/s \n",
            "\u001b[?25hInstalling collected packages: pydicom\n",
            "Successfully installed pydicom-2.1.2\n"
          ],
          "name": "stdout"
        }
      ]
    },
    {
      "cell_type": "code",
      "metadata": {
        "colab": {
          "base_uri": "https://localhost:8080/"
        },
        "id": "nYCP-i6AtdZJ",
        "outputId": "9ef0e9a5-452f-490a-968b-0b66041f728a"
      },
      "source": [
        "!pip install tqdm"
      ],
      "execution_count": 4,
      "outputs": [
        {
          "output_type": "stream",
          "text": [
            "Requirement already satisfied: tqdm in /usr/local/lib/python3.7/dist-packages (4.41.1)\n"
          ],
          "name": "stdout"
        }
      ]
    },
    {
      "cell_type": "code",
      "metadata": {
        "id": "OaFg6USWu1J6"
      },
      "source": [
        "from torch.utils.data import DataLoader\n",
        "from tqdm import tqdm\n",
        "import random\n",
        "import torch.optim as optim\n",
        "import os\n",
        "from UNET import UNET\n",
        "from dataset import SliceDataset\n",
        "import torch\n",
        "import math\n",
        "from DiceLoss import myDiceLoss\n",
        "from transform import transforms\n",
        "from utils import (\n",
        "    load_checkpoint,\n",
        "    save_checkpoint,\n",
        "    get_loaders,\n",
        "    check_accuracy\n",
        ")\n",
        "import time\n",
        "\n"
      ],
      "execution_count": 5,
      "outputs": []
    },
    {
      "cell_type": "code",
      "metadata": {
        "id": "XhLu9e9avR60"
      },
      "source": [
        "def train_fn(train_dataloader, model, optimizer, loss_fn, scaler):\n",
        "    loop = tqdm(train_dataloader, position=0, leave=True)\n",
        "\n",
        "    for batch_idx, (data, targets) in enumerate(loop):\n",
        "        data = data.unsqueeze(1).to(device=DEVICE)\n",
        "\n",
        "        targets = targets.float().unsqueeze(1).to(device=DEVICE)\n",
        "\n",
        "        # forward\n",
        "        with torch.cuda.amp.autocast():\n",
        "            predictions = model(data)\n",
        "            # print(\"pred: \", predictions.shape)\n",
        "            loss = loss_fn.forward(predictions, targets)\n",
        "            # loss = loss_fn(predictions, targets)\n",
        "            # print(\"loss: \", loss.shape)\n",
        "\n",
        "        # backward\n",
        "        optimizer.zero_grad()\n",
        "        scaler.scale(loss).backward()\n",
        "        scaler.step(optimizer)\n",
        "        scaler.update()\n",
        "\n",
        "        # update tqdm loop\n",
        "        loop.set_postfix(loss=loss.item())"
      ],
      "execution_count": 6,
      "outputs": []
    },
    {
      "cell_type": "code",
      "metadata": {
        "id": "tRxRapqCvOpw"
      },
      "source": [
        "DEVICE = \"cuda\" if torch.cuda.is_available() else \"cpu\"\n",
        "LOAD_MODEL = False"
      ],
      "execution_count": 7,
      "outputs": []
    },
    {
      "cell_type": "code",
      "metadata": {
        "colab": {
          "base_uri": "https://localhost:8080/"
        },
        "id": "CEvUyddpy7CE",
        "outputId": "07505b64-02cb-4774-e8f3-186f13a95c2a"
      },
      "source": [
        "\n",
        "my_dir = '/content/drive/MyDrive/MiCM2021-PKD/beta/MR2D/Train'\n",
        "img_paths = []\n",
        "for dcm in os.listdir(my_dir + '/X'):\n",
        "    if dcm != \".DS_Store\":\n",
        "        img_paths.append(my_dir + '/X/' + dcm)\n",
        "img_paths.sort()\n",
        "\n",
        "seg_paths = []\n",
        "for seg in os.listdir(my_dir + '/Y'):\n",
        "    if seg != \".DS_Store\":\n",
        "        seg_paths.append(my_dir + '/Y/' + seg)\n",
        "seg_paths.sort()\n",
        "\n",
        "    # Train = ds.SliceDataset(img_paths, seg_paths)\n",
        "train_idx = random.sample(range(0, len(img_paths)), math.ceil(0.75*len(img_paths)))\n",
        "train_img_paths = []\n",
        "train_seg_paths = []\n",
        "val_img_paths = []\n",
        "val_seg_paths = []\n",
        "for idx in range(len(img_paths)):\n",
        "    if idx in train_idx:\n",
        "        train_img_paths.append(img_paths[idx])\n",
        "        train_seg_paths.append(seg_paths[idx])\n",
        "    else:\n",
        "        val_img_paths.append(img_paths[idx])\n",
        "        val_seg_paths.append(seg_paths[idx])\n",
        "Train = SliceDataset(train_img_paths, train_seg_paths, transform=transforms(0.5, 0.5))\n",
        "Val = SliceDataset(val_img_paths, val_seg_paths, transform=transforms(0.5, 0.5))\n",
        "\n",
        "\n",
        "val_losses = []\n",
        "dice_scores = []\n",
        "UNet = UNET(in_channels=1, out_channels=1).to(DEVICE)\n",
        "    # loss_fn = nn.BCEWithLogitsLoss()\n",
        "loss_fn = myDiceLoss()\n",
        "optimizer = optim.Adam(UNet.parameters(), lr=2 * 1e-3)\n",
        "train_loader, val_loader = get_loaders(Train, Val)\n",
        "    # check_accuracy(val_loader, UNet, device=DEVICE)\n",
        "scaler = torch.cuda.amp.GradScaler()\n",
        "\n",
        "NUM_EPOCHS = 10\n",
        "\n",
        "if LOAD_MODEL:\n",
        "    load_checkpoint(torch.load(\"my_checkpoint.pth.tar\"), UNet)\n",
        "\n",
        "start_time = time.time()\n",
        "\n",
        "for epoch in range(NUM_EPOCHS):\n",
        "    print(\"Epoch: {epoch}/{total}\".format(epoch=epoch + 1, total=NUM_EPOCHS))\n",
        "    train_fn(train_loader, UNet, optimizer, loss_fn, scaler)\n",
        "\n",
        "        # save model\n",
        "    checkpoint = {\n",
        "        \"state_dict\": UNet.state_dict(),\n",
        "        \"optimizer\": optimizer.state_dict(),\n",
        "    }\n",
        "\n",
        "        # check accuracy\n",
        "    loss, dice = check_accuracy(val_loader, UNet, loss_fn, device=DEVICE)\n",
        "    val_losses.append(loss)\n",
        "    dice_scores.append(dice)\n",
        "        # # print some examples to a folder\n",
        "        # save_predictions_as_imgs(\n",
        "        #     val_loader, model, folder=\"saved_images/\", device=DEVICE\n",
        "        # )\n",
        "print(\"--- Training time: %s seconds ---\" % (time.time() - start_time))\n",
        "save_checkpoint(checkpoint)"
      ],
      "execution_count": 10,
      "outputs": [
        {
          "output_type": "stream",
          "text": [
            "\r  0%|          | 0/32 [00:00<?, ?it/s]"
          ],
          "name": "stderr"
        },
        {
          "output_type": "stream",
          "text": [
            "Epoch: 1/10\n"
          ],
          "name": "stdout"
        },
        {
          "output_type": "stream",
          "text": [
            "/usr/local/lib/python3.7/dist-packages/torch/nn/functional.py:718: UserWarning: Named tensors and all their associated APIs are an experimental feature and subject to change. Please do not use them for anything important until they are released as stable. (Triggered internally at  /pytorch/c10/core/TensorImpl.h:1156.)\n",
            "  return torch.max_pool2d(input, kernel_size, stride, padding, dilation, ceil_mode)\n",
            "/usr/local/lib/python3.7/dist-packages/torch/nn/functional.py:1805: UserWarning: nn.functional.sigmoid is deprecated. Use torch.sigmoid instead.\n",
            "  warnings.warn(\"nn.functional.sigmoid is deprecated. Use torch.sigmoid instead.\")\n",
            "100%|██████████| 32/32 [07:35<00:00, 14.23s/it, loss=0.902]\n",
            "  0%|          | 0/32 [00:00<?, ?it/s]"
          ],
          "name": "stderr"
        },
        {
          "output_type": "stream",
          "text": [
            "Got 12784148/12800000 with acc 99.88\n",
            "Dice score: 0.9723546504974365\n",
            "Epoch: 2/10\n"
          ],
          "name": "stdout"
        },
        {
          "output_type": "stream",
          "text": [
            "100%|██████████| 32/32 [01:05<00:00,  2.05s/it, loss=0.678]\n",
            "  0%|          | 0/32 [00:00<?, ?it/s]"
          ],
          "name": "stderr"
        },
        {
          "output_type": "stream",
          "text": [
            "Got 12790272/12800000 with acc 99.92\n",
            "Dice score: 0.9830722808837891\n",
            "Epoch: 3/10\n"
          ],
          "name": "stdout"
        },
        {
          "output_type": "stream",
          "text": [
            "100%|██████████| 32/32 [01:05<00:00,  2.05s/it, loss=0.2]\n",
            "  0%|          | 0/32 [00:00<?, ?it/s]"
          ],
          "name": "stderr"
        },
        {
          "output_type": "stream",
          "text": [
            "Got 12799400/12800000 with acc 100.00\n",
            "Dice score: 0.9989776015281677\n",
            "Epoch: 4/10\n"
          ],
          "name": "stdout"
        },
        {
          "output_type": "stream",
          "text": [
            "100%|██████████| 32/32 [01:05<00:00,  2.05s/it, loss=0.0389]\n",
            "  0%|          | 0/32 [00:00<?, ?it/s]"
          ],
          "name": "stderr"
        },
        {
          "output_type": "stream",
          "text": [
            "Got 12799773/12800000 with acc 100.00\n",
            "Dice score: 0.999636173248291\n",
            "Epoch: 5/10\n"
          ],
          "name": "stdout"
        },
        {
          "output_type": "stream",
          "text": [
            "100%|██████████| 32/32 [01:05<00:00,  2.06s/it, loss=0.0226]\n",
            "  0%|          | 0/32 [00:00<?, ?it/s]"
          ],
          "name": "stderr"
        },
        {
          "output_type": "stream",
          "text": [
            "Got 12799790/12800000 with acc 100.00\n",
            "Dice score: 0.9996606707572937\n",
            "Epoch: 6/10\n"
          ],
          "name": "stdout"
        },
        {
          "output_type": "stream",
          "text": [
            "100%|██████████| 32/32 [01:05<00:00,  2.04s/it, loss=0.0131]\n",
            "  0%|          | 0/32 [00:00<?, ?it/s]"
          ],
          "name": "stderr"
        },
        {
          "output_type": "stream",
          "text": [
            "Got 12799871/12800000 with acc 100.00\n",
            "Dice score: 0.9997941255569458\n",
            "Epoch: 7/10\n"
          ],
          "name": "stdout"
        },
        {
          "output_type": "stream",
          "text": [
            "100%|██████████| 32/32 [01:05<00:00,  2.04s/it, loss=0.00992]\n",
            "  0%|          | 0/32 [00:00<?, ?it/s]"
          ],
          "name": "stderr"
        },
        {
          "output_type": "stream",
          "text": [
            "Got 12799927/12800000 with acc 100.00\n",
            "Dice score: 0.9998841881752014\n",
            "Epoch: 8/10\n"
          ],
          "name": "stdout"
        },
        {
          "output_type": "stream",
          "text": [
            "100%|██████████| 32/32 [01:05<00:00,  2.04s/it, loss=0.00801]\n",
            "  0%|          | 0/32 [00:00<?, ?it/s]"
          ],
          "name": "stderr"
        },
        {
          "output_type": "stream",
          "text": [
            "Got 12799951/12800000 with acc 100.00\n",
            "Dice score: 0.9999212026596069\n",
            "Epoch: 9/10\n"
          ],
          "name": "stdout"
        },
        {
          "output_type": "stream",
          "text": [
            "100%|██████████| 32/32 [01:05<00:00,  2.04s/it, loss=0.00624]\n",
            "  0%|          | 0/32 [00:00<?, ?it/s]"
          ],
          "name": "stderr"
        },
        {
          "output_type": "stream",
          "text": [
            "Got 12799968/12800000 with acc 100.00\n",
            "Dice score: 0.9999443888664246\n",
            "Epoch: 10/10\n"
          ],
          "name": "stdout"
        },
        {
          "output_type": "stream",
          "text": [
            "100%|██████████| 32/32 [01:05<00:00,  2.04s/it, loss=0.00579]\n"
          ],
          "name": "stderr"
        },
        {
          "output_type": "stream",
          "text": [
            "Got 12799967/12800000 with acc 100.00\n",
            "Dice score: 0.9999461770057678\n",
            "=> Saving checkpoint\n"
          ],
          "name": "stdout"
        }
      ]
    },
    {
      "cell_type": "code",
      "metadata": {
        "colab": {
          "base_uri": "https://localhost:8080/",
          "height": 573
        },
        "id": "kv6-oPCr52iF",
        "outputId": "66f39d69-29c5-473c-fba6-dcc702fc52e0"
      },
      "source": [
        "import matplotlib.pyplot as plt\n",
        "\n",
        "m_loss=[]\n",
        "for loss in val_losses:\n",
        "  m_loss.append(float(loss.cpu()))\n",
        "\n",
        "m_dice=[]\n",
        "for dice in dice_scores:\n",
        "  m_dice.append(float(dice.cpu()))\n",
        "\n",
        "t = [i for i in range(1,NUM_EPOCHS+1)]\n",
        "\n",
        "\n",
        "fig, ax = plt.subplots()\n",
        "ax.plot(t, m_loss)\n",
        "\n",
        "ax.set(xlabel='epoch', ylabel='validation loss',\n",
        "       title='Validation loss against epoch')\n",
        "ax.grid()\n",
        "\n",
        "plt.show()\n",
        "\n",
        "\n",
        "fig, ax = plt.subplots()\n",
        "ax.plot(t, m_dice)\n",
        "\n",
        "ax.set(xlabel='epoch', ylabel='dice score',\n",
        "       title='Dice score against epoch')\n",
        "ax.grid()\n",
        "\n",
        "plt.show()"
      ],
      "execution_count": 13,
      "outputs": [
        {
          "output_type": "display_data",
          "data": {
            "image/png": "[encoded data removed]",
            "text/plain": [
              "<Figure size 432x288 with 1 Axes>"
            ]
          },
          "metadata": {
            "tags": [],
            "needs_background": "light"
          }
        },
        {
          "output_type": "display_data",
          "data": {
            "image/png": "[encoded data removed]",
            "text/plain": [
              "<Figure size 432x288 with 1 Axes>"
            ]
          },
          "metadata": {
            "tags": [],
            "needs_background": "light"
          }
        }
      ]
    },
    {
      "cell_type": "code",
      "metadata": {
        "id": "kW3KwjWy0VDQ"
      },
      "source": [
        "def test(loader, model, loss_fn, device=\"cuda\"):\n",
        "    num_correct = 0\n",
        "    num_pixels = 0\n",
        "    dice_score = 0\n",
        "    model.eval()\n",
        "\n",
        "    with torch.no_grad():\n",
        "        for x, y in loader:\n",
        "            # print(\"x: \", x.shape)\n",
        "            # print(\"y: \", y.shape)\n",
        "            x = x.unsqueeze(1).to(device)\n",
        "            # print(\"x: \", x.shape)\n",
        "            y = y.unsqueeze(1).to(device)\n",
        "            # print(\"mo la\")\n",
        "            preds = torch.sigmoid(model(x))\n",
        "            preds = (preds > 0.5).float()\n",
        "            loss = loss_fn.forward(preds,y)\n",
        "            num_correct += (preds == y).sum()\n",
        "            num_pixels += torch.numel(preds)\n",
        "            dice_score += (2 * (preds * y).sum()) / (\n",
        "                (preds + y).sum() + 1e-8\n",
        "            )\n",
        "\n",
        "    print(\n",
        "        f\"Got {num_correct}/{num_pixels} with acc {num_correct/num_pixels*100:.2f}\"\n",
        "    )\n",
        "    print(f\"Dice score: {dice_score/len(loader)}\")\n",
        "    model.train()\n",
        "    return loss, dice_score/len(loader)"
      ],
      "execution_count": null,
      "outputs": []
    },
    {
      "cell_type": "code",
      "metadata": {
        "id": "XYg2Kb7a5cVX"
      },
      "source": [
        "def save_predictions_as_imgs(\n",
        "    loader, model, device=\"cuda\"\n",
        "):\n",
        "    model.eval()\n",
        "    for idx, (x, y) in enumerate(loader):\n",
        "        x = x.to(device=device)\n",
        "        with torch.no_grad():\n",
        "            preds = torch.sigmoid(model(x))\n",
        "            preds = (preds > 0.5).float()\n",
        "        # torchvision.utils.save_image(\n",
        "        #     preds, f\"{folder}/pred_{idx}.png\"\n",
        "        # )\n",
        "        # torchvision.utils.save_image(y.unsqueeze(1), f\"{folder}{idx}.png\")\n",
        "    # print(type(preds))\n",
        "    # print(preds.shape)\n",
        "    model.train()\n",
        "    return preds"
      ],
      "execution_count": 14,
      "outputs": []
    },
    {
      "cell_type": "code",
      "metadata": {
        "colab": {
          "base_uri": "https://localhost:8080/"
        },
        "id": "NKm-oq3966zM",
        "outputId": "253f1206-9a84-4862-d1e2-8a68cb1d088d"
      },
      "source": [
        "test_img_paths = []\n",
        "test_seg_paths = []\n",
        "test_dir = '/content/drive/MyDrive/MiCM2021-PKD/beta/MR2D/Test'\n",
        "for dcm in os.listdir(test_dir + '/X'):\n",
        "    if dcm != \".DS_Store\":\n",
        "        test_img_paths.append(test_dir + '/X/' + dcm)\n",
        "test_img_paths.sort()\n",
        "\n",
        "for seg in os.listdir(test_dir + '/Y'):\n",
        "    if seg != \".DS_Store\":\n",
        "        test_seg_paths.append(test_dir + '/Y/' + seg)\n",
        "test_seg_paths.sort()\n",
        "\n",
        "\n",
        "test_idx = random.sample(range(0, len(test_img_paths)), 10)\n",
        "\n",
        "sampled_test_img_paths = []\n",
        "sampled_test_seg_paths = []\n",
        "\n",
        "for idx in test_idx:\n",
        "  sampled_test_img_paths.append(test_img_paths[idx])\n",
        "  sampled_test_seg_paths.append(test_seg_paths[idx])\n",
        "\n",
        "Test = SliceDataset(sampled_test_img_paths, sampled_test_seg_paths, transform=None)\n",
        "test_loader = DataLoader(Test,1)\n",
        "\n",
        "loop = tqdm(test_loader, position=0, leave=True)\n",
        "\n",
        "preds = []\n",
        "ground = []\n",
        "\n",
        "for batch_idx, (data, targets) in enumerate(loop):\n",
        "    data = data.unsqueeze(1).to(device=DEVICE)\n",
        "\n",
        "\n",
        "    pred = torch.sigmoid(UNet(data))\n",
        "    pred = (pred > 0.5).float()\n",
        "\n",
        "    preds.append(pred.detach().cpu().numpy()[0][0])\n",
        "\n",
        "    targets = targets.float().unsqueeze(1).to(device=DEVICE)\n",
        "    ground.append(targets.detach().cpu().numpy()[0][0])\n"
      ],
      "execution_count": 79,
      "outputs": [
        {
          "output_type": "stream",
          "text": [
            "100%|██████████| 10/10 [00:07<00:00,  1.28it/s]\n"
          ],
          "name": "stderr"
        }
      ]
    },
    {
      "cell_type": "code",
      "metadata": {
        "colab": {
          "base_uri": "https://localhost:8080/"
        },
        "id": "bVRLIQktErO6",
        "outputId": "e4e7d1cf-f4d1-495b-8139-cb282fe6e21d"
      },
      "source": [
        "ground[0].shape"
      ],
      "execution_count": 80,
      "outputs": [
        {
          "output_type": "execute_result",
          "data": {
            "text/plain": [
              "(320, 320)"
            ]
          },
          "metadata": {
            "tags": []
          },
          "execution_count": 80
        }
      ]
    },
    {
      "cell_type": "code",
      "metadata": {
        "colab": {
          "base_uri": "https://localhost:8080/",
          "height": 286
        },
        "id": "J4B8FfPeDdLV",
        "outputId": "94e3f64d-7f4b-4545-8bf8-d42b5e0cdc12"
      },
      "source": [
        "plt.imshow(ground[0])"
      ],
      "execution_count": 81,
      "outputs": [
        {
          "output_type": "execute_result",
          "data": {
            "text/plain": [
              "<matplotlib.image.AxesImage at 0x7f6d55468f50>"
            ]
          },
          "metadata": {
            "tags": []
          },
          "execution_count": 81
        },
        {
          "output_type": "display_data",
          "data": {
            "image/png": "[encoded data removed]",
            "text/plain": [
              "<Figure size 432x288 with 1 Axes>"
            ]
          },
          "metadata": {
            "tags": [],
            "needs_background": "light"
          }
        }
      ]
    },
    {
      "cell_type": "code",
      "metadata": {
        "colab": {
          "base_uri": "https://localhost:8080/",
          "height": 1000
        },
        "id": "rlw-HK2h8sim",
        "outputId": "080cce0e-0e46-4c6a-a6ae-7f9fd6908e5d"
      },
      "source": [
        "for idx in range(len(preds)):\n",
        "\n",
        "  f, axarr = plt.subplots(1,2)\n",
        "  axarr[0].imshow(ground[idx])\n",
        "  axarr[1].imshow(preds[idx])\n",
        "# for idx in range(len(preds)):\n",
        "#   axarr[idx, idx%2].imshow(preds[idx])\n",
        "#   axarr[idx, idx%2].imshow(ground[idx])"
      ],
      "execution_count": 82,
      "outputs": [
        {
          "output_type": "display_data",
          "data": {
            "image/png": "[encoded data removed]",
            "text/plain": [
              "<Figure size 432x288 with 2 Axes>"
            ]
          },
          "metadata": {
            "tags": [],
            "needs_background": "light"
          }
        },
        {
          "output_type": "display_data",
          "data": {
            "image/png": "[encoded data removed]",
            "text/plain": [
              "<Figure size 432x288 with 2 Axes>"
            ]
          },
          "metadata": {
            "tags": [],
            "needs_background": "light"
          }
        },
        {
          "output_type": "display_data",
          "data": {
            "image/png": "[encoded data removed]",
            "text/plain": [
              "<Figure size 432x288 with 2 Axes>"
            ]
          },
          "metadata": {
            "tags": [],
            "needs_background": "light"
          }
        },
        {
          "output_type": "display_data",
          "data": {
            "image/png": "[encoded data removed]",
            "text/plain": [
              "<Figure size 432x288 with 2 Axes>"
            ]
          },
          "metadata": {
            "tags": [],
            "needs_background": "light"
          }
        },
        {
          "output_type": "display_data",
          "data": {
            "image/png": "[encoded data removed]",
            "text/plain": [
              "<Figure size 432x288 with 2 Axes>"
            ]
          },
          "metadata": {
            "tags": [],
            "needs_background": "light"
          }
        },
        {
          "output_type": "display_data",
          "data": {
            "image/png": "[encoded data removed]",
            "text/plain": [
              "<Figure size 432x288 with 2 Axes>"
            ]
          },
          "metadata": {
            "tags": [],
            "needs_background": "light"
          }
        },
        {
          "output_type": "display_data",
          "data": {
            "image/png": "[encoded data removed]",
            "text/plain": [
              "<Figure size 432x288 with 2 Axes>"
            ]
          },
          "metadata": {
            "tags": [],
            "needs_background": "light"
          }
        },
        {
          "output_type": "display_data",
          "data": {
            "image/png": "[encoded data removed]",
            "text/plain": [
              "<Figure size 432x288 with 2 Axes>"
            ]
          },
          "metadata": {
            "tags": [],
            "needs_background": "light"
          }
        },
        {
          "output_type": "display_data",
          "data": {
            "image/png": "[encoded data removed]",
            "text/plain": [
              "<Figure size 432x288 with 2 Axes>"
            ]
          },
          "metadata": {
            "tags": [],
            "needs_background": "light"
          }
        },
        {
          "output_type": "display_data",
          "data": {
            "image/png": "[encoded data removed]",
            "text/plain": [
              "<Figure size 432x288 with 2 Axes>"
            ]
          },
          "metadata": {
            "tags": [],
            "needs_background": "light"
          }
        }
      ]
    },
    {
      "cell_type": "code",
      "metadata": {
        "id": "ERltWSWAG6dz"
      },
      "source": [
        "Test_total = SliceDataset(test_img_paths, test_seg_paths, transform=None)\n",
        "test_total_loader = DataLoader(Test_total,1)\n",
        "\n"
      ],
      "execution_count": 86,
      "outputs": []
    },
    {
      "cell_type": "code",
      "metadata": {
        "colab": {
          "base_uri": "https://localhost:8080/"
        },
        "id": "I3bUS95UKbxk",
        "outputId": "8bdcb920-a522-45f9-c867-89b6912f45bd"
      },
      "source": [
        "loss, dice = check_accuracy(test_total_loader, UNet, loss_fn, device=DEVICE)"
      ],
      "execution_count": 87,
      "outputs": [
        {
          "output_type": "stream",
          "text": [
            "/usr/local/lib/python3.7/dist-packages/torch/nn/functional.py:1805: UserWarning: nn.functional.sigmoid is deprecated. Use torch.sigmoid instead.\n",
            "  warnings.warn(\"nn.functional.sigmoid is deprecated. Use torch.sigmoid instead.\")\n"
          ],
          "name": "stderr"
        },
        {
          "output_type": "stream",
          "text": [
            "Got 12595152/12595200 with acc 100.00\n",
            "Dice score: 0.6828561425209045\n"
          ],
          "name": "stdout"
        }
      ]
    },
    {
      "cell_type": "code",
      "metadata": {
        "colab": {
          "base_uri": "https://localhost:8080/"
        },
        "id": "pHbEm5kpMTvz",
        "outputId": "6cb1d5ab-6ef5-4df4-b69b-f92de03ab682"
      },
      "source": [
        "tot = 0\n",
        "count = 0\n",
        "perfect = True\n",
        "for idx in range(len(preds)):\n",
        "  for r in range(len(preds[idx])):\n",
        "    for c in range(len(preds[idx][r])):\n",
        "      count += 2\n",
        "      if preds[idx][r][c] == ground[idx][r][c]:\n",
        "        tot +=1\n",
        "      else:\n",
        "        perfect = False\n",
        "\n",
        "print(f\"dice coeff {2*tot/count:.10f}\")\n",
        "print(perfect)\n",
        "print(tot)"
      ],
      "execution_count": 99,
      "outputs": [
        {
          "output_type": "stream",
          "text": [
            "dice coeff 1.0000000000\n",
            "True\n",
            "1024000\n"
          ],
          "name": "stdout"
        }
      ]
    },
    {
      "cell_type": "code",
      "metadata": {
        "id": "Xa0ZsHHfIdaq"
      },
      "source": [
        "import numpy as np"
      ],
      "execution_count": 69,
      "outputs": []
    },
    {
      "cell_type": "code",
      "metadata": {
        "colab": {
          "base_uri": "https://localhost:8080/"
        },
        "id": "E8YqzfxR-jZp",
        "outputId": "aaac1631-3ba6-48ed-dc34-440cd4c709bb"
      },
      "source": [
        "np.amax(ground[0])"
      ],
      "execution_count": 78,
      "outputs": [
        {
          "output_type": "execute_result",
          "data": {
            "text/plain": [
              "1.0"
            ]
          },
          "metadata": {
            "tags": []
          },
          "execution_count": 78
        }
      ]
    },
    {
      "cell_type": "code",
      "metadata": {
        "colab": {
          "base_uri": "https://localhost:8080/"
        },
        "id": "kkB0Vo4yHakj",
        "outputId": "917b7f92-1791-4d48-cbf1-44a48733f6d2"
      },
      "source": [
        "len(test_loader)"
      ],
      "execution_count": 84,
      "outputs": [
        {
          "output_type": "execute_result",
          "data": {
            "text/plain": [
              "10"
            ]
          },
          "metadata": {
            "tags": []
          },
          "execution_count": 84
        }
      ]
    },
    {
      "cell_type": "code",
      "metadata": {
        "id": "h_U08jO0LnRP"
      },
      "source": [
        ""
      ],
      "execution_count": null,
      "outputs": []
    }
  ]
}