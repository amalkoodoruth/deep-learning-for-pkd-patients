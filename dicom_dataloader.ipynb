{
  "nbformat": 4,
  "nbformat_minor": 0,
  "metadata": {
    "colab": {
      "name": "dicom_dataloader.ipynb",
      "provenance": [],
      "collapsed_sections": [],
      "authorship_tag": "ABX9TyPjrpR+C+nakHZOMDKQeegz",
      "include_colab_link": true
    },
    "kernelspec": {
      "name": "python3",
      "display_name": "Python 3"
    },
    "language_info": {
      "name": "python"
    }
  },
  "cells": [
    {
      "cell_type": "markdown",
      "metadata": {
        "id": "view-in-github",
        "colab_type": "text"
      },
      "source": [
        "<a href=\"https://colab.research.google.com/github/amalkoodoruth/deep-learning-for-pkd-patients/blob/main/dicom_dataloader.ipynb\" target=\"_parent\"><img src=\"https://colab.research.google.com/assets/colab-badge.svg\" alt=\"Open In Colab\"/></a>"
      ]
    },
    {
      "cell_type": "code",
      "metadata": {
        "colab": {
          "base_uri": "https://localhost:8080/"
        },
        "id": "HGFzK470C5X4",
        "outputId": "50b62dff-22fd-417b-ed27-245e5adbf9b4"
      },
      "source": [
        "# Mounting drive and changing the working directory\n",
        "from google.colab import drive\n",
        "drive.mount('/content/drive')\n",
        "%cd /content/drive/MyDrive/MiCM2021-PKD/dataloader_data_kaggle/Train_Sets/MR"
      ],
      "execution_count": 1,
      "outputs": [
        {
          "output_type": "stream",
          "text": [
            "Drive already mounted at /content/drive; to attempt to forcibly remount, call drive.mount(\"/content/drive\", force_remount=True).\n",
            "/content/drive/MyDrive/MiCM2021-PKD/dataloader_data_kaggle/Train_Sets/MR\n"
          ],
          "name": "stdout"
        }
      ]
    },
    {
      "cell_type": "code",
      "metadata": {
        "colab": {
          "base_uri": "https://localhost:8080/"
        },
        "id": "kCSLjETlCzpx",
        "outputId": "62a63fc7-bc70-456f-920d-6b3a05d104f4"
      },
      "source": [
        "# installing pydicom\n",
        "!pip install pydicom"
      ],
      "execution_count": 2,
      "outputs": [
        {
          "output_type": "stream",
          "text": [
            "Requirement already satisfied: pydicom in /usr/local/lib/python3.7/dist-packages (2.1.2)\n"
          ],
          "name": "stdout"
        }
      ]
    },
    {
      "cell_type": "code",
      "metadata": {
        "id": "w4ONSCIFDiNi"
      },
      "source": [
        "# importing important librarires\n",
        "import itertools\n",
        "import matplotlib.pyplot as plt\n",
        "import numpy as np\n",
        "import os\n",
        "import pandas as pd\n",
        "import pydicom"
      ],
      "execution_count": 3,
      "outputs": []
    },
    {
      "cell_type": "code",
      "metadata": {
        "id": "N1NYqpmSDroH"
      },
      "source": [
        "my_dir = !pwd\n",
        "my_dir = str(my_dir)"
      ],
      "execution_count": 4,
      "outputs": []
    },
    {
      "cell_type": "code",
      "metadata": {
        "id": "CyhhRZQkFl9C"
      },
      "source": [
        "def load_data(master_path, new_dimensions):\n",
        "    '''\n",
        "    This function is used to transform dicom images into numpy arrays with the desired dimensions\n",
        "\n",
        "      Parameters:\n",
        "        master_path (str): the path to the directory containing the scans of all patients\n",
        "        new_dimensions (list): a list containing the dimensions of the new scan [z,x,y]\n",
        "\n",
        "      Returns:\n",
        "        patients_resized (numpy.ndarray): a numpy array containing numpy arrays representing MRI scans of individual patients\n",
        "    '''\n",
        "    patients_name = os.listdir(master_path)\n",
        "\n",
        "    patients_dcm = [] # contains the samples in dicom format\n",
        "\n",
        "    for patient in patients_name:\n",
        "      path = master_path + '/' + patient + '/T2SPIR/DICOM_anon'\n",
        "      patients_dcm.append(load_scan(path))\n",
        "\n",
        "    print(\"Dicom files loaded\")\n",
        "\n",
        "    scans_not_square = not_square(patients_dcm)\n",
        "    [min_length, max_length], [min_width, max_width], [min_height, max_height] = get_extreme_dim(patients_dcm)\n",
        "\n",
        "    patients = []\n",
        "\n",
        "    for patient in patients_dcm:\n",
        "      patients.append(get_array(patient))\n",
        "\n",
        "    print(\"Dicom files converted to numpy array\")\n",
        "\n",
        "    patients_resized = []\n",
        "    \n",
        "    for patient in patients:\n",
        "      patients_resized.append(resize_data(patient, new_dimensions))\n",
        "    \n",
        "    print(\"Scans have been resized to {size}\".format(size= patients_resized[0].shape))\n",
        "\n",
        "    return patients_resized\n",
        "\n",
        "def load_scan(path):\n",
        "    \"\"\"\n",
        "    This function is used to load the MRI scans.\n",
        "\n",
        "      Parameters:\n",
        "        path (str): The path to the folder containing the MRI scans of THE patient\n",
        "\n",
        "      Returns:\n",
        "        slices (list): A list of the slices consisting the MRI scan\n",
        "    \"\"\"\n",
        "\n",
        "    slices = [pydicom.read_file(path + '/' + s) for s in os.listdir(path)]\n",
        "    slices.sort(key = lambda x: float(x.ImagePositionPatient[2]))\n",
        "    try:\n",
        "        slice_thickness = np.abs(slices[0].ImagePositionPatient[2] - slices[1].ImagePositionPatient[2])\n",
        "    except Exception as e:\n",
        "        print(\"Exception raised: \", e)\n",
        "        slice_thickness = np.abs(slices[0].SliceLocation - slices[1].SliceLocation)\n",
        "        \n",
        "    for s in slices:\n",
        "        s.SliceThickness = slice_thickness\n",
        "        \n",
        "    return slices\n",
        "\n",
        "def get_dimensions(patients_dcm):\n",
        "    \"\"\"\n",
        "    This function is used to get the dimensions of all scans\n",
        "\n",
        "      Parameters:\n",
        "        patients_dcm (list): A list containing the MRI scans. Each MRI scan is a list of the slices that make up the scan\n",
        "\n",
        "      Returns:\n",
        "        None\n",
        "    \"\"\"\n",
        "    for i in range(len(patients_dcm)):\n",
        "      print(patients_dcm[i][0].pixel_array.shape, len(patients_dcm[i]))\n",
        "\n",
        "def not_square(patients_dcm):\n",
        "    \"\"\"\n",
        "    This function tells us if all the slices that make up a scan are squares.\n",
        "\n",
        "      Parameters:\n",
        "        patients_dcm (list): A list containing the MRI scans. Each MRI scan is a list of the slices that make up the scan\n",
        "\n",
        "      Returns:\n",
        "        scans_not_square (list): A list containing the indices of scans that contain non-square slices\n",
        "      \n",
        "    \"\"\"\n",
        "    scans_not_square = []\n",
        "    for i in range(len(patients_dcm)):\n",
        "      # we compare only the first slice because all of them in one scan have the same dimension\n",
        "      if patients_dcm[i][0].pixel_array.shape[0] != patients_dcm[i][0].pixel_array.shape[1]: \n",
        "        scans_not_square.append(i)\n",
        "        print(\"Not all images are squares\")\n",
        "\n",
        "    return scans_not_square\n",
        "\n",
        "def get_array(scan):\n",
        "    '''\n",
        "    This function converts a scan into a numpy array\n",
        "\n",
        "      Parameters:\n",
        "        scan (list): A list containing the slices that make up an MRI scan\n",
        "\n",
        "      Returns: \n",
        "        np_image (numpy.ndarray): A numpy array representing the MRI scan\n",
        "    '''\n",
        "    image = np.stack([s.pixel_array for s in scan])\n",
        "    image = image.astype(np.int16)\n",
        "    np_image = np.array(image, dtype=np.int16)\n",
        "    return np_image\n",
        "\n",
        "def resize_data(data, new_dimensions):\n",
        "    '''\n",
        "    This function resizes a numpy array.\n",
        "    TO DO: method used for interpolation?\n",
        "\n",
        "      Parameters:\n",
        "        data (numpy.ndarray): a numpy array representing an MRI scan\n",
        "        new_dimensions (list): a list containing the dimensions of the new scan [z,x,y]\n",
        "\n",
        "      Returns:\n",
        "        new_data (numpy.ndarray): a numpy array with the desired dimensions\n",
        "    '''\n",
        "    initial_size_x = data.shape[1]\n",
        "    initial_size_y = data.shape[2]\n",
        "    initial_size_z = data.shape[0]\n",
        "\n",
        "    new_size_z = new_dimensions[0]\n",
        "    new_size_x = new_dimensions[1]\n",
        "    new_size_y = new_dimensions[2]\n",
        "      \n",
        "    delta_x = initial_size_x / new_size_x\n",
        "    delta_y = initial_size_y / new_size_y\n",
        "    delta_z = initial_size_z / new_size_z\n",
        "\n",
        "    new_data = np.zeros((new_size_z, new_size_x, new_size_y))\n",
        "\n",
        "    for x, y, z in itertools.product(range(new_size_x),\n",
        "                                      range(new_size_y),\n",
        "                                      range(new_size_z)):\n",
        "      new_data[z][x][y] = data[int(z * delta_z)][int(x * delta_x)][int(y * delta_y)]\n",
        "\n",
        "    return new_data\n",
        "\n",
        "def get_extreme_dim(patients_dcm):\n",
        "    \"\"\"\n",
        "    This function gets the minimum and maximum dimensions of all scans\n",
        "\n",
        "      Paramters:\n",
        "        patients_dcm (list): A list containing the MRI scans. Each MRI scan is a list of the slices that make up the scan\n",
        "\n",
        "      Returns:\n",
        "        [min_length, max_length], [min_width, max_width], [min_height, max_height] (list): These lists contain the\n",
        "        minimum and maximum dimensions of all scans.\n",
        "\n",
        "    \"\"\"\n",
        "    lengths = []\n",
        "    widths = []\n",
        "    heights = []\n",
        "    square = True\n",
        "\n",
        "    scans_not_square = not_square(patients_dcm)\n",
        "\n",
        "    if len(scans_not_square) != 0:\n",
        "      square = False\n",
        "\n",
        "    # for i in range(len(patients_dcm)):\n",
        "    #   if patients_dcm[i][0].pixel_array.shape[0] != patients_dcm[i][0].pixel_array.shape[1]: \n",
        "    #     square = False\n",
        "    #     print(\"Not all images are squares\")\n",
        "\n",
        "    for i in range(len(patients_dcm)):\n",
        "\n",
        "      lengths.append(patients_dcm[i][0].pixel_array.shape[0])\n",
        "      heights.append(len(patients_dcm[i]))\n",
        "      if square == False:\n",
        "        widths.append(patients_dcm[i][0].pixel_array.shape[1])\n",
        "    \n",
        "    max_length = max(lengths)\n",
        "    min_length = min(lengths)\n",
        "\n",
        "    max_height = max(heights)\n",
        "    min_height = min(heights)\n",
        "\n",
        "    print(\"Min length: {min_l} \\nMax length: {max_l}\\n\".format(max_l= max_length, min_l= min_length))\n",
        "    if square == False:\n",
        "      max_width = max(widths)\n",
        "      min_width = min(widths)\n",
        "      print(\"Min width: {min_w} \\nMax width: {max_w}\\n\".format(max_w= max_width, min_w= min_width))\n",
        "    else:\n",
        "      min_width, max_width = -1,-1\n",
        "      print(\"All images are squares\\n\")\n",
        "      \n",
        "    print(\"Min height: {min_h} \\nMax height: {max_h}\\n\".format(max_h= max_height, min_h= min_height))\n",
        "\n",
        "    return [min_length, max_length], [min_width, max_width], [min_height, max_height]"
      ],
      "execution_count": 5,
      "outputs": []
    },
    {
      "cell_type": "code",
      "metadata": {
        "colab": {
          "base_uri": "https://localhost:8080/"
        },
        "id": "FZ6CPjeTJK5C",
        "outputId": "e9dcc2ea-02dd-4dc8-9134-247da155e138"
      },
      "source": [
        "pat = load_data(my_dir[2:-2], [10,50,50])"
      ],
      "execution_count": 6,
      "outputs": [
        {
          "output_type": "stream",
          "text": [
            "Dicom files loaded\n",
            "Min length: 256 \n",
            "Max length: 320\n",
            "\n",
            "All images are squares\n",
            "\n",
            "Min height: 26 \n",
            "Max height: 39\n",
            "\n",
            "Dicom files converted to numpy array\n",
            "Scans have been resized to (10, 50, 50)\n"
          ],
          "name": "stdout"
        }
      ]
    },
    {
      "cell_type": "code",
      "metadata": {
        "colab": {
          "base_uri": "https://localhost:8080/"
        },
        "id": "KAJLnzGxP9n9",
        "outputId": "3465ac3e-f792-4178-cb93-60f7175caa2d"
      },
      "source": [
        "pat[0].shape"
      ],
      "execution_count": 12,
      "outputs": [
        {
          "output_type": "execute_result",
          "data": {
            "text/plain": [
              "(10, 50, 50)"
            ]
          },
          "metadata": {
            "tags": []
          },
          "execution_count": 12
        }
      ]
    },
    {
      "cell_type": "code",
      "metadata": {
        "colab": {
          "base_uri": "https://localhost:8080/"
        },
        "id": "qq65gQGcOaoG",
        "outputId": "a1fd4a49-55fc-4bd6-d106-8bbcd30d5711"
      },
      "source": [
        "print(load_data.__doc__)"
      ],
      "execution_count": 13,
      "outputs": [
        {
          "output_type": "stream",
          "text": [
            "\n",
            "    This function is used to transform dicom images into numpy arrays with the desired dimensions\n",
            "\n",
            "      Parameters:\n",
            "        master_path (str): the path to the directory containing the scans of all patients\n",
            "        new_dimensions (list): a list containing the dimensions of the new scan [z,x,y]\n",
            "\n",
            "      Returns:\n",
            "        patients_resized (numpy.ndarray): a numpy array containing numpy arrays representing MRI scans of individual patients\n",
            "    \n"
          ],
          "name": "stdout"
        }
      ]
    }
  ]
}