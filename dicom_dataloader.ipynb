{
  "nbformat": 4,
  "nbformat_minor": 0,
  "metadata": {
    "colab": {
      "name": "dicom_dataloader.ipynb",
      "provenance": []
    },
    "kernelspec": {
      "name": "python3",
      "display_name": "Python 3"
    },
    "language_info": {
      "name": "python"
    }
  },
  "cells": [
    {
      "cell_type": "code",
      "metadata": {
        "colab": {
          "base_uri": "https://localhost:8080/"
        },
        "id": "ETnGTg0Xku8O",
        "outputId": "606f14fe-57c1-4446-9e96-f6e4da641f1c"
      },
      "source": [
        "pip install pydicom"
      ],
      "execution_count": null,
      "outputs": [
        {
          "output_type": "stream",
          "text": [
            "Requirement already satisfied: pydicom in /usr/local/lib/python3.7/dist-packages (2.1.2)\n"
          ],
          "name": "stdout"
        }
      ]
    },
    {
      "cell_type": "code",
      "metadata": {
        "id": "4UhsMyhRkv8J",
        "colab": {
          "base_uri": "https://localhost:8080/"
        },
        "outputId": "22f9ca77-ff86-45e9-9698-9259881e8561"
      },
      "source": [
        "from google.colab import drive\n",
        "drive.mount('/content/drive')"
      ],
      "execution_count": null,
      "outputs": [
        {
          "output_type": "stream",
          "text": [
            "Drive already mounted at /content/drive; to attempt to forcibly remount, call drive.mount(\"/content/drive\", force_remount=True).\n"
          ],
          "name": "stdout"
        }
      ]
    },
    {
      "cell_type": "code",
      "metadata": {
        "colab": {
          "base_uri": "https://localhost:8080/"
        },
        "id": "5eXsG6neYrrZ",
        "outputId": "e079f463-8679-4826-f313-b048ef648823"
      },
      "source": [
        "ls"
      ],
      "execution_count": null,
      "outputs": [
        {
          "output_type": "stream",
          "text": [
            "\u001b[0m\u001b[01;34mdrive\u001b[0m/  \u001b[01;34msample_data\u001b[0m/\n"
          ],
          "name": "stdout"
        }
      ]
    },
    {
      "cell_type": "code",
      "metadata": {
        "colab": {
          "base_uri": "https://localhost:8080/"
        },
        "id": "lbDalTdOZKOL",
        "outputId": "68fd427e-1c69-4aa8-d396-20416669bb88"
      },
      "source": [
        "cd /content/drive/MyDrive/MiCM 2021- Deep Learning to Predict Disease Progression in Patients with Polycystic Kidney Disease/dataloader_data_kaggle/dicom"
      ],
      "execution_count": null,
      "outputs": [
        {
          "output_type": "stream",
          "text": [
            "/content/drive/MyDrive/MiCM 2021- Deep Learning to Predict Disease Progression in Patients with Polycystic Kidney Disease/dataloader_data_kaggle/dicom\n"
          ],
          "name": "stdout"
        }
      ]
    },
    {
      "cell_type": "code",
      "metadata": {
        "id": "Jd5CBsWFbASu"
      },
      "source": [
        "import os\n",
        "import pandas as pd\n",
        "import pydicom"
      ],
      "execution_count": null,
      "outputs": []
    },
    {
      "cell_type": "code",
      "metadata": {
        "colab": {
          "base_uri": "https://localhost:8080/",
          "height": 52
        },
        "id": "lPDqkuzxbKnS",
        "outputId": "3ff9f580-d311-4efb-8949-7cdab5505d4d"
      },
      "source": [
        "pwd"
      ],
      "execution_count": null,
      "outputs": [
        {
          "output_type": "execute_result",
          "data": {
            "application/vnd.google.colaboratory.intrinsic+json": {
              "type": "string"
            },
            "text/plain": [
              "'/content/drive/My Drive/MiCM 2021- Deep Learning to Predict Disease Progression in Patients with Polycystic Kidney Disease/dataloader_data_kaggle/dicom'"
            ]
          },
          "metadata": {
            "tags": []
          },
          "execution_count": 6
        }
      ]
    },
    {
      "cell_type": "code",
      "metadata": {
        "colab": {
          "base_uri": "https://localhost:8080/"
        },
        "id": "PhYTdCWPcb5X",
        "outputId": "e538f0e1-ff35-4fe1-f5a9-5af2c335d5ec"
      },
      "source": [
        "ls"
      ],
      "execution_count": null,
      "outputs": [
        {
          "output_type": "stream",
          "text": [
            "\u001b[0m\u001b[01;34m1\u001b[0m/  \u001b[01;34m10\u001b[0m/  \u001b[01;34m11\u001b[0m/  \u001b[01;34m2\u001b[0m/  \u001b[01;34m3\u001b[0m/  \u001b[01;34m4\u001b[0m/  \u001b[01;34m5\u001b[0m/  \u001b[01;34m6\u001b[0m/  \u001b[01;34m8\u001b[0m/  \u001b[01;34m9\u001b[0m/\n"
          ],
          "name": "stdout"
        }
      ]
    },
    {
      "cell_type": "code",
      "metadata": {
        "id": "r0CvH2P-bnBX"
      },
      "source": [
        "data_dir = '/content/drive/My Drive/MiCM 2021- Deep Learning to Predict Disease Progression in Patients with Polycystic Kidney Disease/dataloader_data_kaggle/dicom/'\n",
        "patients = os.listdir(data_dir)"
      ],
      "execution_count": null,
      "outputs": []
    },
    {
      "cell_type": "code",
      "metadata": {
        "id": "1mnr0-1Yn7TL"
      },
      "source": [
        "import numpy as np"
      ],
      "execution_count": null,
      "outputs": []
    },
    {
      "cell_type": "code",
      "metadata": {
        "colab": {
          "base_uri": "https://localhost:8080/"
        },
        "id": "fuo_J-lAbw2m",
        "outputId": "973eb0b8-7f2c-42f6-9668-ff718ed3f1fc"
      },
      "source": [
        "for patient in patients:\n",
        "  path = data_dir + patient\n",
        "  slices = [pydicom.read_file(path + '/' + s) for s in os.listdir(path)]\n",
        "  slices.sort(key = lambda x: int(x.ImagePositionPatient[2]))\n",
        "  print(slices[0].pixel_array.shape, len(slices))\n",
        "  \n",
        "  try:\n",
        "      slice_thickness = np.abs(slices[0].ImagePositionPatient[2] - slices[1].ImagePositionPatient[2])\n",
        "  except:\n",
        "      slice_thickness = np.abs(slices[0].SliceLocation - slices[1].SliceLocation)\n",
        "  print('---------------')\n",
        "  print('slice thickness for patient %s: %d', patient, slice_thickness)\n",
        "  print('---------------')\n",
        "  "
      ],
      "execution_count": null,
      "outputs": [
        {
          "output_type": "stream",
          "text": [
            "(256, 256) 53\n",
            "---------------\n",
            "slice thickness for patient %s: %d 4 3.0\n",
            "---------------\n",
            "(256, 256) 56\n",
            "---------------\n",
            "slice thickness for patient %s: %d 9 3.0\n",
            "---------------\n",
            "(256, 256) 52\n",
            "---------------\n",
            "slice thickness for patient %s: %d 5 3.0\n",
            "---------------\n",
            "(256, 256) 54\n",
            "---------------\n",
            "slice thickness for patient %s: %d 11 3.0\n",
            "---------------\n",
            "(256, 256) 53\n",
            "---------------\n",
            "slice thickness for patient %s: %d 3 3.0\n",
            "---------------\n",
            "(256, 256) 48\n",
            "---------------\n",
            "slice thickness for patient %s: %d 10 3.0\n",
            "---------------\n",
            "(256, 256) 54\n",
            "---------------\n",
            "slice thickness for patient %s: %d 6 3.0\n",
            "---------------\n",
            "(256, 256) 55\n",
            "---------------\n",
            "slice thickness for patient %s: %d 1 3.0\n",
            "---------------\n",
            "(256, 256) 57\n",
            "---------------\n",
            "slice thickness for patient %s: %d 8 3.0\n",
            "---------------\n",
            "(256, 256) 52\n",
            "---------------\n",
            "slice thickness for patient %s: %d 2 3.0\n",
            "---------------\n"
          ],
          "name": "stdout"
        }
      ]
    },
    {
      "cell_type": "code",
      "metadata": {
        "colab": {
          "base_uri": "https://localhost:8080/"
        },
        "id": "yGabhsr3cRKP",
        "outputId": "009f3d84-822f-49d7-ca87-d49e6aa3620c"
      },
      "source": [
        "len(slices)"
      ],
      "execution_count": null,
      "outputs": [
        {
          "output_type": "execute_result",
          "data": {
            "text/plain": [
              "52"
            ]
          },
          "metadata": {
            "tags": []
          },
          "execution_count": 37
        }
      ]
    },
    {
      "cell_type": "code",
      "metadata": {
        "colab": {
          "base_uri": "https://localhost:8080/"
        },
        "id": "LqhuxMMdoy8G",
        "outputId": "d678bc39-a9fb-4766-9d60-49c37c074fd6"
      },
      "source": [
        "print(slices[5])"
      ],
      "execution_count": null,
      "outputs": [
        {
          "output_type": "stream",
          "text": [
            "Dataset.file_meta -------------------------------\n",
            "(0002, 0000) File Meta Information Group Length  UL: 192\n",
            "(0002, 0001) File Meta Information Version       OB: b'\\x00\\x01'\n",
            "(0002, 0002) Media Storage SOP Class UID         UI: MR Image Storage\n",
            "(0002, 0003) Media Storage SOP Instance UID      UI: 1.3.6.1.4.1.9328.50.51.247507555555569480377095724517065935886\n",
            "(0002, 0010) Transfer Syntax UID                 UI: Explicit VR Little Endian\n",
            "(0002, 0012) Implementation Class UID            UI: 1.2.40.0.13.1.1\n",
            "(0002, 0013) Implementation Version Name         SH: 'dcm4che-1.4.27'\n",
            "-------------------------------------------------\n",
            "(0008, 0008) Image Type                          CS: ['ORIGINAL', 'PRIMARY', 'OTHER']\n",
            "(0008, 0016) SOP Class UID                       UI: MR Image Storage\n",
            "(0008, 0018) SOP Instance UID                    UI: 1.3.6.1.4.1.9328.50.51.247507555555569480377095724517065935886\n",
            "(0008, 0020) Study Date                          DA: '19901119'\n",
            "(0008, 0023) Content Date                        DA: '20010305'\n",
            "(0008, 0030) Study Time                          TM: ''\n",
            "(0008, 0033) Content Time                        TM: ''\n",
            "(0008, 0050) Accession Number                    SH: '2819497684894126'\n",
            "(0008, 0060) Modality                            CS: 'MR'\n",
            "(0008, 0070) Manufacturer                        LO: 'General Electric'\n",
            "(0008, 0090) Referring Physician's Name          PN: ''\n",
            "(0008, 1010) Station Name                        SH: 'BAY'\n",
            "(0008, 1030) Study Description                   LO: 'BRAIN/GD'\n",
            "(0008, 103e) Series Description                  LO: 'AX FLAIR'\n",
            "(0008, 1080) Admitting Diagnoses Description     LO: 'LEFT CRANI'\n",
            "(0008, 1090) Manufacturer's Model Name           LO: 'GENESIS'\n",
            "(0008, 2111) Derivation Description              ST: ''\n",
            "(0010, 0010) Patient's Name                      PN: '230183'\n",
            "(0010, 0020) Patient ID                          LO: 'HF0835'\n",
            "(0010, 0030) Patient's Birth Date                DA: '17940703'\n",
            "(0010, 0040) Patient's Sex                       CS: ''\n",
            "(0012, 0062) Patient Identity Removed            CS: 'YES'\n",
            "(0012, 0063) De-identification Method            LO: ['CTP:NBIA Default (modified):20100114:102536', 'DCM:113107']\n",
            "(0013, 0010) Private Creator                     LO: 'CTP'\n",
            "(0013, 1010) Private tag data                    UN: b'REMBRANDT\\x00'\n",
            "(0013, 1013) Private tag data                    UN: b'45913001'\n",
            "(0018, 0010) Contrast/Bolus Agent                LO: ''\n",
            "(0018, 0015) Body Part Examined                  CS: 'BRAIN'\n",
            "(0018, 0020) Scanning Sequence                   CS: 'flair'\n",
            "(0018, 0021) Sequence Variant                    CS: 'NONE'\n",
            "(0018, 0022) Scan Options                        CS: ''\n",
            "(0018, 0023) MR Acquisition Type                 CS: ''\n",
            "(0018, 0050) Slice Thickness                     DS: \"3.0\"\n",
            "(0018, 0080) Repetition Time                     DS: \"10002.0\"\n",
            "(0018, 0081) Echo Time                           DS: \"155.0\"\n",
            "(0018, 0082) Inversion Time                      DS: \"2200.0\"\n",
            "(0018, 0083) Number of Averages                  DS: \"0.0\"\n",
            "(0018, 0088) Spacing Between Slices              DS: \"3.0\"\n",
            "(0018, 0091) Echo Train Length                   IS: \"0\"\n",
            "(0018, 1000) Device Serial Number                LO: '0000000313876mr2'\n",
            "(0018, 1020) Software Versions                   LO: '07 of 07'\n",
            "(0018, 1100) Reconstruction Diameter             DS: \"240.0\"\n",
            "(0018, 1250) Receive Coil Name                   SH: 'HEAD'\n",
            "(0018, 1251) Transmit Coil Name                  SH: 'HEAD'\n",
            "(0018, 1310) Acquisition Matrix                  US: [0, 0, 0, 0]\n",
            "(0018, 1314) Flip Angle                          DS: \"90.0\"\n",
            "(0018, 5100) Patient Position                    CS: ''\n",
            "(0018, 6020) Reference Pixel X0                  SL: 0\n",
            "(0018, 6022) Reference Pixel Y0                  SL: 0\n",
            "(0020, 000d) Study Instance UID                  UI: 1.3.6.1.4.1.9328.50.51.110445472025827169973300773649172966241\n",
            "(0020, 000e) Series Instance UID                 UI: 1.3.6.1.4.1.9328.50.51.331296331076374023828211629953606562532\n",
            "(0020, 0010) Study ID                            SH: ''\n",
            "(0020, 0011) Series Number                       IS: \"3\"\n",
            "(0020, 0013) Instance Number                     IS: \"6\"\n",
            "(0020, 0032) Image Position (Patient)            DS: [-120.000000, 110.000000, -37.000000]\n",
            "(0020, 0037) Image Orientation (Patient)         DS: [1.000000, 0.000000, 0.000000, 0.000000, 1.000000, 0.000000]\n",
            "(0020, 0052) Frame of Reference UID              UI: 1.3.6.1.4.1.9328.50.51.88133816364412627454323360776555109493\n",
            "(0020, 1040) Position Reference Indicator        LO: 'NA'\n",
            "(0020, 1041) Slice Location                      DS: \"-37.0\"\n",
            "(0028, 0002) Samples per Pixel                   US: 1\n",
            "(0028, 0004) Photometric Interpretation          CS: 'MONOCHROME2'\n",
            "(0028, 0010) Rows                                US: 256\n",
            "(0028, 0011) Columns                             US: 256\n",
            "(0028, 0030) Pixel Spacing                       DS: [0.938, 0.938]\n",
            "(0028, 0100) Bits Allocated                      US: 16\n",
            "(0028, 0101) Bits Stored                         US: 16\n",
            "(0028, 0102) High Bit                            US: 15\n",
            "(0028, 0103) Pixel Representation                US: 1\n",
            "(0028, 0303) Longitudinal Temporal Information M SH: 'MODIFIED'\n",
            "(0028, 1050) Window Center                       DS: \"268.5\"\n",
            "(0028, 1051) Window Width                        DS: \"537.0\"\n",
            "(0028, 1052) Rescale Intercept                   DS: \"0.0\"\n",
            "(0028, 1053) Rescale Slope                       DS: \"1.0\"\n",
            "(7fe0, 0010) Pixel Data                          OW: Array of 131072 elements\n"
          ],
          "name": "stdout"
        }
      ]
    },
    {
      "cell_type": "markdown",
      "metadata": {
        "id": "UfLNJJuTpnCO"
      },
      "source": [
        "We see that the images are not of the same size. We need to fix that because our neural network would need data with same dimensions as input. This can be done by resampling the full dataset to a certain isotropic resolution. \n",
        "\n",
        "Question: When do we need to do the segmentation? After?"
      ]
    },
    {
      "cell_type": "code",
      "metadata": {
        "id": "W6kWswM8qa8U"
      },
      "source": [
        ""
      ],
      "execution_count": null,
      "outputs": []
    }
  ]
}